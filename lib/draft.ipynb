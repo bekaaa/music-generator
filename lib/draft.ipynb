{
 "cells": [
  {
   "cell_type": "code",
   "execution_count": null,
   "metadata": {},
   "outputs": [],
   "source": [
    "#import tensorflow as tf\n",
    "#import numpy as np\n",
    "#import _pickle as pickle\n",
    "#from lib.preprocessing import load_piece, rearrange_data\n",
    "#from lib.model_assests import predictions_to_notes, create_midi"
   ]
  },
  {
   "cell_type": "code",
   "execution_count": 1,
   "metadata": {},
   "outputs": [
    {
     "name": "stderr",
     "output_type": "stream",
     "text": [
      "/usr/local/lib64/python3.6/site-packages/h5py/__init__.py:36: FutureWarning: Conversion of the second argument of issubdtype from `float` to `np.floating` is deprecated. In future, it will be treated as `np.float64 == np.dtype(float).type`.\n",
      "  from ._conv import register_converters as _register_converters\n"
     ]
    }
   ],
   "source": [
    "from __init__ import *"
   ]
  },
  {
   "cell_type": "code",
   "execution_count": 2,
   "metadata": {},
   "outputs": [
    {
     "name": "stdout",
     "output_type": "stream",
     "text": [
      "INFO:tensorflow:Restoring parameters from ../checkpoints/2/model-test-1\n"
     ]
    }
   ],
   "source": [
    "sess = tf.Session()\n",
    "new_saver = tf.train.import_meta_graph('../checkpoints/2/model-test-1.meta')\n",
    "new_saver.restore(sess, tf.train.latest_checkpoint('../checkpoints/2/'))\n",
    "graph = tf.get_default_graph()"
   ]
  },
  {
   "cell_type": "code",
   "execution_count": null,
   "metadata": {},
   "outputs": [],
   "source": []
  },
  {
   "cell_type": "code",
   "execution_count": 3,
   "metadata": {
    "scrolled": false
   },
   "outputs": [],
   "source": [
    "config = Config()\n",
    "config.num_prev = 20\n",
    "config.batch_size = 14\n",
    "config.num_steps = 10\n",
    "config.element_size = 19*3\n",
    "config.epochs = 100\n",
    "config.num_layers = 1\n",
    "config.print_step = 20\n",
    "config.save_model = False\n",
    "config.save_after_epoch = 1\n",
    "config.model_save_path = '../checkpoints/2/model-test'\n"
   ]
  },
  {
   "cell_type": "code",
   "execution_count": 4,
   "metadata": {},
   "outputs": [
    {
     "name": "stdout",
     "output_type": "stream",
     "text": [
      "data loaded in shape (5224, 20, 57)\n"
     ]
    }
   ],
   "source": [
    "raw_data = load_piece('../data/Mozart_pickles/', 2)\n",
    "raw_data = rearrange_data(raw_data, config.num_prev)\n",
    "print('data loaded in shape',raw_data.shape)\n",
    "data_obj = Input(raw_data, config)"
   ]
  },
  {
   "cell_type": "code",
   "execution_count": null,
   "metadata": {},
   "outputs": [],
   "source": []
  },
  {
   "cell_type": "code",
   "execution_count": null,
   "metadata": {},
   "outputs": [],
   "source": []
  },
  {
   "cell_type": "code",
   "execution_count": 5,
   "metadata": {},
   "outputs": [],
   "source": [
    "logits = graph.get_tensor_by_name('Forward_propagation/logits:0')\n",
    "X = graph.get_tensor_by_name('data_tensors/data_input:0')\n",
    "init_state = graph.get_tensor_by_name('initial_state/init_state:0')\n",
    "is_training = graph.get_tensor_by_name('training_flag:0')\n",
    "output = graph.get_tensor_by_name('Forward_propagation/output:0')"
   ]
  },
  {
   "cell_type": "code",
   "execution_count": 6,
   "metadata": {},
   "outputs": [],
   "source": [
    "current_state = np.zeros([2, config.batch_size, data_obj.hidden_size])"
   ]
  },
  {
   "cell_type": "code",
   "execution_count": 7,
   "metadata": {},
   "outputs": [
    {
     "name": "stdout",
     "output_type": "stream",
     "text": [
      "(14, 10, 1140)\n"
     ]
    }
   ],
   "source": [
    "x_input, _ = data_obj.next_batch()\n",
    "print (x_input.shape)"
   ]
  },
  {
   "cell_type": "code",
   "execution_count": 8,
   "metadata": {},
   "outputs": [],
   "source": [
    "[preds] = sess.run([logits], feed_dict={X:x_input, init_state:current_state, is_training:False})"
   ]
  },
  {
   "cell_type": "code",
   "execution_count": 9,
   "metadata": {
    "scrolled": false
   },
   "outputs": [],
   "source": [
    "for op in graph.get_operations():\n",
    "    if 'outputx2' in op.name : op.name : print (op.name,'\\t',op.type, op.values())"
   ]
  },
  {
   "cell_type": "code",
   "execution_count": 10,
   "metadata": {},
   "outputs": [],
   "source": [
    "notes = predictions_to_notes(preds)"
   ]
  },
  {
   "cell_type": "code",
   "execution_count": 11,
   "metadata": {},
   "outputs": [
    {
     "name": "stdout",
     "output_type": "stream",
     "text": [
      "midi is generated and saved to disk\n"
     ]
    }
   ],
   "source": [
    "create_midi(notes, 'test.mid')"
   ]
  },
  {
   "cell_type": "code",
   "execution_count": 12,
   "metadata": {},
   "outputs": [
    {
     "data": {
      "text/plain": [
       "['G5.',\n",
       " 'G5.',\n",
       " 'B5.',\n",
       " 'B4.',\n",
       " 'G4.',\n",
       " 'G5.',\n",
       " 'G4.',\n",
       " 'B5.',\n",
       " 'B4.',\n",
       " 'G4.',\n",
       " 'G5.',\n",
       " 'G5.',\n",
       " 'G5.',\n",
       " 'D5.',\n",
       " 'D4.',\n",
       " 'G5.',\n",
       " 'G5.',\n",
       " 'B5.',\n",
       " 'G5.',\n",
       " 'B4.',\n",
       " 'C5.',\n",
       " 'G5.',\n",
       " 'G4.',\n",
       " 'G4.',\n",
       " 'D4.',\n",
       " 'G4.',\n",
       " 'G4.',\n",
       " 'G4.',\n",
       " 'G4.',\n",
       " 'B3.',\n",
       " 'D5.',\n",
       " 'G4.',\n",
       " 'G4.',\n",
       " 'G4.',\n",
       " 'D5.',\n",
       " 'G4.',\n",
       " 'B4.',\n",
       " 'B4.',\n",
       " 'D4.',\n",
       " 'D4.',\n",
       " 'G4.',\n",
       " 'D5.',\n",
       " 'G4.',\n",
       " 'D4.',\n",
       " 'D4.',\n",
       " 'G5.',\n",
       " 'G4.',\n",
       " 'G4.',\n",
       " 'G4.',\n",
       " 'G5.',\n",
       " 'G5.',\n",
       " 'D5.',\n",
       " 'G4.',\n",
       " 'G4.',\n",
       " 'G4.',\n",
       " 'G4.',\n",
       " 'G4.',\n",
       " 'G4.',\n",
       " 'B4.',\n",
       " 'D4.',\n",
       " 'G5.',\n",
       " 'G5.',\n",
       " 'G4.',\n",
       " 'D5.',\n",
       " 'G5.',\n",
       " 'G5.',\n",
       " 'G5.',\n",
       " 'B4.',\n",
       " 'G4.',\n",
       " 'B4.',\n",
       " 'G5.',\n",
       " 'G5.',\n",
       " 'G4.',\n",
       " 'D5.',\n",
       " 'G4.',\n",
       " 'B5.',\n",
       " 'A4.',\n",
       " 'D4.',\n",
       " 'G4.',\n",
       " 'B3.',\n",
       " 'G5.',\n",
       " 'G3.',\n",
       " 'D4.',\n",
       " 'D5.',\n",
       " 'D4.',\n",
       " 'D5.',\n",
       " 'G5.',\n",
       " 'C4.',\n",
       " 'D5.',\n",
       " 'G4.',\n",
       " 'D5.',\n",
       " 'G5.',\n",
       " 'G4.',\n",
       " 'D4.',\n",
       " 'G5.',\n",
       " 'B4.',\n",
       " 'G4.',\n",
       " 'G4.',\n",
       " 'B5.',\n",
       " 'B5.',\n",
       " 'G5.',\n",
       " 'D5.',\n",
       " 'G4.',\n",
       " 'G4.',\n",
       " 'G4.',\n",
       " 'D4.',\n",
       " 'G4.',\n",
       " 'G4.',\n",
       " 'G4.',\n",
       " 'B4.',\n",
       " 'G5.',\n",
       " 'G4.',\n",
       " 'B4.',\n",
       " 'G5.',\n",
       " 'G4.',\n",
       " 'B4.',\n",
       " 'B5.',\n",
       " 'G4.',\n",
       " 'D4.',\n",
       " 'G4.',\n",
       " 'G4.',\n",
       " 'G5.',\n",
       " 'G5.',\n",
       " 'D4.',\n",
       " 'G4.',\n",
       " 'G4.',\n",
       " 'G5.',\n",
       " 'B5.',\n",
       " 'D4.',\n",
       " 'D3.',\n",
       " 'G5.',\n",
       " 'D5.',\n",
       " 'G5.',\n",
       " 'G4.',\n",
       " 'G5.',\n",
       " 'G5.',\n",
       " 'D5.',\n",
       " 'G5.',\n",
       " 'G4.',\n",
       " 'D3.']"
      ]
     },
     "execution_count": 12,
     "metadata": {},
     "output_type": "execute_result"
    }
   ],
   "source": [
    "notes"
   ]
  },
  {
   "cell_type": "code",
   "execution_count": 14,
   "metadata": {},
   "outputs": [
    {
     "data": {
      "text/plain": [
       "<music21.note.Note A#>"
      ]
     },
     "execution_count": 14,
     "metadata": {},
     "output_type": "execute_result"
    }
   ],
   "source": [
    "note.Note('A#')"
   ]
  },
  {
   "cell_type": "code",
   "execution_count": null,
   "metadata": {},
   "outputs": [],
   "source": []
  },
  {
   "cell_type": "code",
   "execution_count": null,
   "metadata": {},
   "outputs": [],
   "source": []
  },
  {
   "cell_type": "code",
   "execution_count": 17,
   "metadata": {},
   "outputs": [
    {
     "ename": "AccidentalException",
     "evalue": "#- is not a supported accidental type",
     "output_type": "error",
     "traceback": [
      "\u001b[0;31m---------------------------------------------------------------------------\u001b[0m",
      "\u001b[0;31mAccidentalException\u001b[0m                       Traceback (most recent call last)",
      "\u001b[0;32m<ipython-input-17-8c8fcd8245f5>\u001b[0m in \u001b[0;36m<module>\u001b[0;34m()\u001b[0m\n\u001b[1;32m      8\u001b[0m         \u001b[0mnotes\u001b[0m \u001b[0;34m=\u001b[0m \u001b[0;34m[\u001b[0m\u001b[0;34m]\u001b[0m\u001b[0;34m\u001b[0m\u001b[0m\n\u001b[1;32m      9\u001b[0m         \u001b[0;32mfor\u001b[0m \u001b[0mcurrent_note\u001b[0m \u001b[0;32min\u001b[0m \u001b[0mnotes_in_pattern\u001b[0m\u001b[0;34m:\u001b[0m\u001b[0;34m\u001b[0m\u001b[0m\n\u001b[0;32m---> 10\u001b[0;31m             \u001b[0mnew_note\u001b[0m \u001b[0;34m=\u001b[0m \u001b[0mnote\u001b[0m\u001b[0;34m.\u001b[0m\u001b[0mNote\u001b[0m\u001b[0;34m(\u001b[0m\u001b[0mcurrent_note\u001b[0m\u001b[0;34m)\u001b[0m\u001b[0;34m\u001b[0m\u001b[0m\n\u001b[0m\u001b[1;32m     11\u001b[0m             \u001b[0mnew_note\u001b[0m\u001b[0;34m.\u001b[0m\u001b[0mstoredInstrument\u001b[0m \u001b[0;34m=\u001b[0m \u001b[0minstrument\u001b[0m\u001b[0;34m.\u001b[0m\u001b[0mPiano\u001b[0m\u001b[0;34m(\u001b[0m\u001b[0;34m)\u001b[0m\u001b[0;34m\u001b[0m\u001b[0m\n\u001b[1;32m     12\u001b[0m             \u001b[0mnotes\u001b[0m\u001b[0;34m.\u001b[0m\u001b[0mappend\u001b[0m\u001b[0;34m(\u001b[0m\u001b[0mnew_note\u001b[0m\u001b[0;34m)\u001b[0m\u001b[0;34m\u001b[0m\u001b[0m\n",
      "\u001b[0;32m~/.local/lib/python3.6/site-packages/music21/note.py\u001b[0m in \u001b[0;36m__init__\u001b[0;34m(self, pitchName, **keywords)\u001b[0m\n\u001b[1;32m   1058\u001b[0m                 \u001b[0mself\u001b[0m\u001b[0;34m.\u001b[0m\u001b[0mpitch\u001b[0m \u001b[0;34m=\u001b[0m \u001b[0mpitchName\u001b[0m\u001b[0;34m\u001b[0m\u001b[0m\n\u001b[1;32m   1059\u001b[0m             \u001b[0;32melse\u001b[0m\u001b[0;34m:\u001b[0m \u001b[0;31m# assume first argument is pitch\u001b[0m\u001b[0;34m\u001b[0m\u001b[0m\n\u001b[0;32m-> 1060\u001b[0;31m                 \u001b[0mself\u001b[0m\u001b[0;34m.\u001b[0m\u001b[0mpitch\u001b[0m \u001b[0;34m=\u001b[0m \u001b[0mpitch\u001b[0m\u001b[0;34m.\u001b[0m\u001b[0mPitch\u001b[0m\u001b[0;34m(\u001b[0m\u001b[0mpitchName\u001b[0m\u001b[0;34m,\u001b[0m \u001b[0;34m**\u001b[0m\u001b[0mkeywords\u001b[0m\u001b[0;34m)\u001b[0m\u001b[0;34m\u001b[0m\u001b[0m\n\u001b[0m\u001b[1;32m   1061\u001b[0m         \u001b[0;32melse\u001b[0m\u001b[0;34m:\u001b[0m \u001b[0;31m# supply a default pitch\u001b[0m\u001b[0;34m\u001b[0m\u001b[0m\n\u001b[1;32m   1062\u001b[0m             \u001b[0mname\u001b[0m \u001b[0;34m=\u001b[0m \u001b[0;34m'C4'\u001b[0m\u001b[0;34m\u001b[0m\u001b[0m\n",
      "\u001b[0;32m~/.local/lib/python3.6/site-packages/music21/pitch.py\u001b[0m in \u001b[0;36m__init__\u001b[0;34m(self, name, **keywords)\u001b[0m\n\u001b[1;32m   1669\u001b[0m         \u001b[0;32mif\u001b[0m \u001b[0mname\u001b[0m \u001b[0;32mis\u001b[0m \u001b[0;32mnot\u001b[0m \u001b[0;32mNone\u001b[0m\u001b[0;34m:\u001b[0m\u001b[0;34m\u001b[0m\u001b[0m\n\u001b[1;32m   1670\u001b[0m             \u001b[0;32mif\u001b[0m \u001b[0;32mnot\u001b[0m \u001b[0mcommon\u001b[0m\u001b[0;34m.\u001b[0m\u001b[0misNum\u001b[0m\u001b[0;34m(\u001b[0m\u001b[0mname\u001b[0m\u001b[0;34m)\u001b[0m\u001b[0;34m:\u001b[0m\u001b[0;34m\u001b[0m\u001b[0m\n\u001b[0;32m-> 1671\u001b[0;31m                 \u001b[0mself\u001b[0m\u001b[0;34m.\u001b[0m\u001b[0m_setName\u001b[0m\u001b[0;34m(\u001b[0m\u001b[0mname\u001b[0m\u001b[0;34m)\u001b[0m \u001b[0;31m# set based on string\u001b[0m\u001b[0;34m\u001b[0m\u001b[0m\n\u001b[0m\u001b[1;32m   1672\u001b[0m             \u001b[0;32melse\u001b[0m\u001b[0;34m:\u001b[0m \u001b[0;31m# is a number\u001b[0m\u001b[0;34m\u001b[0m\u001b[0m\n\u001b[1;32m   1673\u001b[0m                 \u001b[0;32mif\u001b[0m \u001b[0mname\u001b[0m \u001b[0;34m<\u001b[0m \u001b[0;36m12\u001b[0m\u001b[0;34m:\u001b[0m \u001b[0;31m# is a pitchClass\u001b[0m\u001b[0;34m\u001b[0m\u001b[0m\n",
      "\u001b[0;32m~/.local/lib/python3.6/site-packages/music21/pitch.py\u001b[0m in \u001b[0;36m_setName\u001b[0;34m(self, usrStr)\u001b[0m\n\u001b[1;32m   2514\u001b[0m         \u001b[0;32melif\u001b[0m \u001b[0mlen\u001b[0m\u001b[0;34m(\u001b[0m\u001b[0musrStr\u001b[0m\u001b[0;34m)\u001b[0m \u001b[0;34m>\u001b[0m \u001b[0;36m1\u001b[0m\u001b[0;34m:\u001b[0m\u001b[0;34m\u001b[0m\u001b[0m\n\u001b[1;32m   2515\u001b[0m             \u001b[0mself\u001b[0m\u001b[0;34m.\u001b[0m\u001b[0mstep\u001b[0m \u001b[0;34m=\u001b[0m \u001b[0musrStr\u001b[0m\u001b[0;34m[\u001b[0m\u001b[0;36m0\u001b[0m\u001b[0;34m]\u001b[0m\u001b[0;34m\u001b[0m\u001b[0m\n\u001b[0;32m-> 2516\u001b[0;31m             \u001b[0mself\u001b[0m\u001b[0;34m.\u001b[0m\u001b[0maccidental\u001b[0m \u001b[0;34m=\u001b[0m \u001b[0mAccidental\u001b[0m\u001b[0;34m(\u001b[0m\u001b[0musrStr\u001b[0m\u001b[0;34m[\u001b[0m\u001b[0;36m1\u001b[0m\u001b[0;34m:\u001b[0m\u001b[0;34m]\u001b[0m\u001b[0;34m)\u001b[0m\u001b[0;34m\u001b[0m\u001b[0m\n\u001b[0m\u001b[1;32m   2517\u001b[0m         \u001b[0;32melse\u001b[0m\u001b[0;34m:\u001b[0m\u001b[0;34m\u001b[0m\u001b[0m\n\u001b[1;32m   2518\u001b[0m             \u001b[0;32mraise\u001b[0m \u001b[0mPitchException\u001b[0m\u001b[0;34m(\u001b[0m\u001b[0;34m'Cannot make a name out of %s'\u001b[0m \u001b[0;34m%\u001b[0m \u001b[0mrepr\u001b[0m\u001b[0;34m(\u001b[0m\u001b[0musrStr\u001b[0m\u001b[0;34m)\u001b[0m\u001b[0;34m)\u001b[0m\u001b[0;34m\u001b[0m\u001b[0m\n",
      "\u001b[0;32m~/.local/lib/python3.6/site-packages/music21/pitch.py\u001b[0m in \u001b[0;36m__init__\u001b[0;34m(self, specifier)\u001b[0m\n\u001b[1;32m    840\u001b[0m         \u001b[0mself\u001b[0m\u001b[0;34m.\u001b[0m\u001b[0m_alter\u001b[0m \u001b[0;34m=\u001b[0m \u001b[0;36m0.0\u001b[0m     \u001b[0;31m# semitones to alter step\u001b[0m\u001b[0;34m\u001b[0m\u001b[0m\n\u001b[1;32m    841\u001b[0m         \u001b[0;31m# potentially can be a fraction... but not exponent...\u001b[0m\u001b[0;34m\u001b[0m\u001b[0;34m\u001b[0m\u001b[0m\n\u001b[0;32m--> 842\u001b[0;31m         \u001b[0mself\u001b[0m\u001b[0;34m.\u001b[0m\u001b[0mset\u001b[0m\u001b[0;34m(\u001b[0m\u001b[0mspecifier\u001b[0m\u001b[0;34m)\u001b[0m\u001b[0;34m\u001b[0m\u001b[0m\n\u001b[0m\u001b[1;32m    843\u001b[0m \u001b[0;34m\u001b[0m\u001b[0m\n\u001b[1;32m    844\u001b[0m     \u001b[0;31m### SPECIAL METHODS ###\u001b[0m\u001b[0;34m\u001b[0m\u001b[0;34m\u001b[0m\u001b[0m\n",
      "\u001b[0;32m~/.local/lib/python3.6/site-packages/music21/pitch.py\u001b[0m in \u001b[0;36mset\u001b[0;34m(self, name, allowNonStandardValue)\u001b[0m\n\u001b[1;32m   1108\u001b[0m         \u001b[0;32melse\u001b[0m\u001b[0;34m:\u001b[0m\u001b[0;34m\u001b[0m\u001b[0m\n\u001b[1;32m   1109\u001b[0m             \u001b[0;32mif\u001b[0m \u001b[0;32mnot\u001b[0m \u001b[0mallowNonStandardValue\u001b[0m\u001b[0;34m:\u001b[0m\u001b[0;34m\u001b[0m\u001b[0m\n\u001b[0;32m-> 1110\u001b[0;31m                 \u001b[0;32mraise\u001b[0m \u001b[0mAccidentalException\u001b[0m\u001b[0;34m(\u001b[0m\u001b[0;34m'%s is not a supported accidental type'\u001b[0m \u001b[0;34m%\u001b[0m \u001b[0mname\u001b[0m\u001b[0;34m)\u001b[0m\u001b[0;34m\u001b[0m\u001b[0m\n\u001b[0m\u001b[1;32m   1111\u001b[0m             \u001b[0;32melse\u001b[0m\u001b[0;34m:\u001b[0m\u001b[0;34m\u001b[0m\u001b[0m\n\u001b[1;32m   1112\u001b[0m                 \u001b[0;32mif\u001b[0m \u001b[0misinstance\u001b[0m\u001b[0;34m(\u001b[0m\u001b[0mname\u001b[0m\u001b[0;34m,\u001b[0m \u001b[0mstr\u001b[0m\u001b[0;34m)\u001b[0m\u001b[0;34m:\u001b[0m\u001b[0;34m\u001b[0m\u001b[0m\n",
      "\u001b[0;31mAccidentalException\u001b[0m: #- is not a supported accidental type"
     ]
    }
   ],
   "source": [
    "offset = 0\n",
    "output_notes = []\n",
    "\n",
    "for pattern in notes:\n",
    "    # pattern is a chord\n",
    "    notes_in_pattern = pattern.split('.')[:-1]\n",
    "    if len(notes_in_pattern) > 1 : # is a chord\n",
    "        notes = []\n",
    "        for current_note in notes_in_pattern:\n",
    "            new_note = note.Note(current_note)\n",
    "            new_note.storedInstrument = instrument.Piano()\n",
    "            notes.append(new_note)\n",
    "        new_chord = chord.Chord(notes)\n",
    "        new_chord.offset = offset\n",
    "        output_notes.append(new_chord)\n",
    "    # pattern is a single note\n",
    "    #else :\n",
    "    #    new_note = note.Note(notes_in_pattern[0])\n",
    "    #    new_note.storedInstrument = instrument.Piano()\n",
    "    #    new_note.offset = offset\n",
    "    #    output_notes.append(new_note)\n",
    "    #increase offset each step\n",
    "    offset += .5\n"
   ]
  },
  {
   "cell_type": "code",
   "execution_count": 18,
   "metadata": {},
   "outputs": [
    {
     "data": {
      "text/plain": [
       "'F#-10'"
      ]
     },
     "execution_count": 18,
     "metadata": {},
     "output_type": "execute_result"
    }
   ],
   "source": [
    "current_note"
   ]
  },
  {
   "cell_type": "code",
   "execution_count": null,
   "metadata": {},
   "outputs": [],
   "source": []
  }
 ],
 "metadata": {
  "kernelspec": {
   "display_name": "Python 3",
   "language": "python",
   "name": "python3"
  },
  "language_info": {
   "codemirror_mode": {
    "name": "ipython",
    "version": 3
   },
   "file_extension": ".py",
   "mimetype": "text/x-python",
   "name": "python",
   "nbconvert_exporter": "python",
   "pygments_lexer": "ipython3",
   "version": "3.6.4"
  }
 },
 "nbformat": 4,
 "nbformat_minor": 2
}
