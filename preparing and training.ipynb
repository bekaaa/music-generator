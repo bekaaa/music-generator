{
 "cells": [
  {
   "cell_type": "code",
   "execution_count": 3,
   "metadata": {},
   "outputs": [],
   "source": [
    "import numpy as np\n",
    "#import _pickle as pickle\n",
    "#import glob\n",
    "#from collections import OrderedDict\n",
    "#from sklearn.preprocessing import OneHotEncoder, LabelEncoder\n",
    "#from music21 import note, chord, instrument, converter\n",
    "#import matplotlib.pyplot as plt\n",
    "#%matplotlib inline \n",
    "from lib.preprocessing import preprocess_raw_data, load_piece\n",
    "from lib.lstm_model import train"
   ]
  },
  {
   "cell_type": "code",
   "execution_count": null,
   "metadata": {},
   "outputs": [],
   "source": []
  },
  {
   "cell_type": "code",
   "execution_count": null,
   "metadata": {},
   "outputs": [],
   "source": []
  },
  {
   "cell_type": "code",
   "execution_count": null,
   "metadata": {},
   "outputs": [],
   "source": [
    "piece = load_piece('./data/Mozart/', 2)\n",
    "piece.shape"
   ]
  },
  {
   "cell_type": "code",
   "execution_count": null,
   "metadata": {},
   "outputs": [],
   "source": [
    "train(piece, 1, 1, batch_size=20, model_save_name='./checkpoints/0/model')"
   ]
  },
  {
   "cell_type": "code",
   "execution_count": null,
   "metadata": {},
   "outputs": [],
   "source": []
  },
  {
   "cell_type": "code",
   "execution_count": 30,
   "metadata": {
    "scrolled": false
   },
   "outputs": [
    {
     "name": "stdout",
     "output_type": "stream",
     "text": [
      "(1939, 3, 19)\n"
     ]
    }
   ],
   "source": [
    "from lib.preprocessing import load_piece\n",
    "from lib.lstm_model import train\n",
    "piece = load_piece('./data/Mozart/', 10)\n",
    "print(piece.shape)\n",
    "#train(piece, 1, 1, batch_size=20, model_save_name='./checkpoints/0/model')\n"
   ]
  },
  {
   "cell_type": "code",
   "execution_count": 2,
   "metadata": {},
   "outputs": [
    {
     "data": {
      "text/plain": [
       "(7404, 3, 19)"
      ]
     },
     "execution_count": 2,
     "metadata": {},
     "output_type": "execute_result"
    }
   ],
   "source": [
    "piece.shape\n"
   ]
  },
  {
   "cell_type": "code",
   "execution_count": 6,
   "metadata": {},
   "outputs": [],
   "source": [
    "def rearrange_data(data, num_comb=100):\n",
    "    new_len = data.shape[0] - num_comb\n",
    "    new_data = np.zeros([ new_len, 100, 3, 19])\n",
    "    for i in range(new_len):\n",
    "        new_data[i] = data[i:i+num_comb]\n",
    "    return new_data"
   ]
  },
  {
   "cell_type": "code",
   "execution_count": 7,
   "metadata": {},
   "outputs": [],
   "source": [
    "npiece = rearrange_data(piece)"
   ]
  },
  {
   "cell_type": "code",
   "execution_count": 31,
   "metadata": {},
   "outputs": [
    {
     "data": {
      "text/plain": [
       "array([1, 1, 1, 1, 1, 1, 1, 1, 1, 1, 1, 1, 1, 0, 1, 1, 1, 1, 1],\n",
       "      dtype=int32)"
      ]
     },
     "execution_count": 31,
     "metadata": {},
     "output_type": "execute_result"
    }
   ],
   "source": [
    "piece[100,2]"
   ]
  },
  {
   "cell_type": "code",
   "execution_count": null,
   "metadata": {},
   "outputs": [],
   "source": [
    "def prepare_data(notes, n_vocab):\n",
    "    ''' create input sequences and output notes '''\n",
    "    sequence_length = 100\n",
    "    NetworkInput = []\n",
    "    NetworkOutput = []\n",
    "    # create a mapping to the notes\n",
    "    mapper = LabelEncoder()\n",
    "    mapped_notes = mapper.fit_transform(notes)\n",
    "\n",
    "    for i in range(len(notes)-sequence_length):\n",
    "        in_seq = mapped_notes[i : i+sequence_length]\n",
    "        out_note = mapped_notes[i+sequence_length]\n",
    "        NetworkInput.append(in_seq)\n",
    "        NetworkOutput.append(out_note)\n",
    "    \n",
    "    n_patterns = len(NetworkOutput)\n",
    "    \n",
    "    NetworkInput = np.reshape(NetworkInput, (n_patterns, sequence_length, 1))\n",
    "    NetworkInput = NetworkInput / float(n_vocab)\n",
    "    \n",
    "    NetworkOutput = np.reshape(NetworkOutput, (-1,1))\n",
    "    hotencoder = OneHotEncoder(sparse=False)\n",
    "    _ = hotencoder.fit(mapped_notes.reshape(-1,1))\n",
    "    NetworkOutput = hotencoder.transform(NetworkOutput)\n",
    "    \n",
    "    # save the mapper and hotencoder to disk for prediction.\n",
    "    #with open('./data/mapper.pkl','wb') as f:\n",
    "    #    pickle.dump(mapper, f)\n",
    "    #with open('./data/hotencoder.pkl','wb') as f:\n",
    "    #    pickle.dump(hotencoder, f)\n",
    "    \n",
    "    print('Input shape = ',NetworkInput.shape, '\\nOutput shape = ', NetworkOutput.shape)\n",
    "    return mapped_notes, NetworkInput, NetworkOutput\n",
    "#---------------------------------------\n",
    "if debug : mapped_notes, NetworkInput, NetworkOutput = prepare_data(notes, n_vocab)"
   ]
  },
  {
   "cell_type": "code",
   "execution_count": null,
   "metadata": {},
   "outputs": [],
   "source": []
  },
  {
   "cell_type": "code",
   "execution_count": null,
   "metadata": {},
   "outputs": [],
   "source": []
  },
  {
   "cell_type": "code",
   "execution_count": null,
   "metadata": {
    "scrolled": true
   },
   "outputs": [],
   "source": []
  },
  {
   "cell_type": "code",
   "execution_count": null,
   "metadata": {},
   "outputs": [],
   "source": [
    "#with open('./checkpoints/1/loss_stack.pkl','wb') as f:\n",
    "#    pickle.dump(loss_stack, f)"
   ]
  },
  {
   "cell_type": "code",
   "execution_count": 37,
   "metadata": {},
   "outputs": [],
   "source": [
    "import glob\n",
    "import pickle"
   ]
  },
  {
   "cell_type": "code",
   "execution_count": null,
   "metadata": {},
   "outputs": [],
   "source": [
    "#plt.plot(range(len(loss_stack)),loss_stack)\n",
    "#plt.show()"
   ]
  },
  {
   "cell_type": "code",
   "execution_count": 38,
   "metadata": {},
   "outputs": [],
   "source": [
    "music_files = glob.glob('./data/Mozart/*.pkl')\n",
    "#assert len(music_files) > 0\n",
    "#assert pieceId < len(music_files)\n",
    "with open(music_files[5], 'rb') as f:\n",
    "    data = pickle.load(f)"
   ]
  },
  {
   "cell_type": "code",
   "execution_count": 40,
   "metadata": {},
   "outputs": [
    {
     "data": {
      "text/plain": [
       "array([0, 0, 0, 0, 0, 0, 0, 0, 0, 0, 0, 0, 0, 0, 0, 0, 0, 0, 0],\n",
       "      dtype=int32)"
      ]
     },
     "execution_count": 40,
     "metadata": {},
     "output_type": "execute_result"
    }
   ],
   "source": [
    "data[0][0]"
   ]
  },
  {
   "cell_type": "code",
   "execution_count": null,
   "metadata": {},
   "outputs": [],
   "source": [
    "notes"
   ]
  },
  {
   "cell_type": "code",
   "execution_count": null,
   "metadata": {},
   "outputs": [],
   "source": [
    "piano = parts.parts[0].recurse()"
   ]
  },
  {
   "cell_type": "code",
   "execution_count": null,
   "metadata": {},
   "outputs": [],
   "source": [
    "names = set()\n",
    "for p in piano :\n",
    "    if isinstance(p, note.Note):\n",
    "        names.add(p.name)\n",
    "    if isinstance(p, chord.Chord):\n",
    "        for pp in p.pitches:\n",
    "            names.add(pp.name)"
   ]
  },
  {
   "cell_type": "code",
   "execution_count": null,
   "metadata": {},
   "outputs": [],
   "source": [
    "lenoct = set()\n",
    "octaves = set()\n",
    "for index,file in enumerate([glob.glob('./music/Mozart/*.mid')[2]]):\n",
    "        \n",
    "    if index % 10 == 0 : print(index,end='')\n",
    "    print('.',end='')\n",
    "    midi = converter.parse(file)\n",
    "    notes_to_parse  = []\n",
    "    parts = instrument.partitionByInstrument(midi)\n",
    "\n",
    "    if parts :\n",
    "        piano_notes = parts.parts[0].recurse()\n",
    "    else :\n",
    "        print('\\n*caution no parts are found.')\n",
    "        piano_notes = parts.flat_notes\n",
    "\n",
    "    # prepare notes\n",
    "    notes_to_parse = []\n",
    "    for elidx, element in enumerate(piano_notes):\n",
    "            elinf = [ element_info.copy() for i in range(3)]\n",
    "            if isinstance(element, note.Note):\n",
    "                elinf[0][str(element.name)] = 1\n",
    "                elinf[0][str(element.octave)] = 1\n",
    "                elinf[1]['empty'] = 1\n",
    "                elinf[2]['empty'] = 1\n",
    "                notes_to_parse.append(elinf)\n",
    "                octaves.add(element.octave)\n",
    "                data[elidx,0] = elinfo[0].values()\n",
    "            elif isinstance(element, chord.Chord):\n",
    "                lenoct.add(len(element.pitches))\n",
    "                assert len(element.pitches) <= 3\n",
    "                for idx,e in enumerate(element.pitches) :\n",
    "                    elinf[idx][str(e.name)] = 1\n",
    "                    elinf[idx][str(e.octave)] = 1\n",
    "                    octaves.add(e.octave)\n",
    "                if idx != 2 :\n",
    "                    for i in range(idx, 3):\n",
    "                        elinf[i]['empty'] = 1\n",
    "                notes_to_parse.append(elinf)\n",
    "            else : # it shouldn't reach here.\n",
    "                pass\n",
    "            "
   ]
  },
  {
   "cell_type": "code",
   "execution_count": null,
   "metadata": {},
   "outputs": [],
   "source": [
    "lenoct"
   ]
  },
  {
   "cell_type": "code",
   "execution_count": null,
   "metadata": {},
   "outputs": [],
   "source": [
    "notes_to_parse"
   ]
  },
  {
   "cell_type": "code",
   "execution_count": null,
   "metadata": {},
   "outputs": [],
   "source": [
    "note_names = ['A', 'B', 'B-', 'C', 'C#', 'D', 'E', 'E-', 'F', 'F#', 'G', 'G#']\n",
    "octaves = ['1', '2', '3', '4', '5', '6']\n",
    "element_info = OrderedDict({e:0 for e in ['empty'] + note_names + octaves})"
   ]
  },
  {
   "cell_type": "code",
   "execution_count": null,
   "metadata": {},
   "outputs": [],
   "source": []
  },
  {
   "cell_type": "code",
   "execution_count": null,
   "metadata": {},
   "outputs": [],
   "source": [
    "data = np.zeros([len(piano_notes), 3, 19], dtype=np.int32)"
   ]
  },
  {
   "cell_type": "code",
   "execution_count": null,
   "metadata": {},
   "outputs": [],
   "source": [
    "data[0,0] = list(elinf[0].values())"
   ]
  },
  {
   "cell_type": "code",
   "execution_count": null,
   "metadata": {},
   "outputs": [],
   "source": [
    "data[0]"
   ]
  }
 ],
 "metadata": {
  "kernelspec": {
   "display_name": "Python 3",
   "language": "python",
   "name": "python3"
  },
  "language_info": {
   "codemirror_mode": {
    "name": "ipython",
    "version": 3
   },
   "file_extension": ".py",
   "mimetype": "text/x-python",
   "name": "python",
   "nbconvert_exporter": "python",
   "pygments_lexer": "ipython3",
   "version": "3.6.4"
  }
 },
 "nbformat": 4,
 "nbformat_minor": 2
}
