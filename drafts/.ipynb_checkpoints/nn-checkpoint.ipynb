{
 "cells": [
  {
   "cell_type": "code",
   "execution_count": 1,
   "metadata": {},
   "outputs": [
    {
     "name": "stderr",
     "output_type": "stream",
     "text": [
      "/usr/local/lib64/python3.6/site-packages/h5py/__init__.py:36: FutureWarning: Conversion of the second argument of issubdtype from `float` to `np.floating` is deprecated. In future, it will be treated as `np.float64 == np.dtype(float).type`.\n",
      "  from ._conv import register_converters as _register_converters\n"
     ]
    }
   ],
   "source": [
    "import sys\n",
    "sys.path.append('..')\n",
    "#import tensorflow as tf\n",
    "import numpy as np\n",
    "#import _pickle as pickle\n",
    "from lib.preprocessing import load_piece, rearrange_data\n",
    "from lib.model_assests import predictions_to_notes, create_midi"
   ]
  },
  {
   "cell_type": "code",
   "execution_count": 2,
   "metadata": {},
   "outputs": [],
   "source": [
    "raw_data = load_piece('../data/Mozart/', 2)\n",
    "#raw_data = rearrange_data(raw_data, 10)"
   ]
  },
  {
   "cell_type": "code",
   "execution_count": 5,
   "metadata": {},
   "outputs": [
    {
     "data": {
      "text/plain": [
       "['',\n",
       " '/usr/lib64/python36.zip',\n",
       " '/usr/lib64/python3.6',\n",
       " '/usr/lib64/python3.6/lib-dynload',\n",
       " '/home/bekora/.local/lib/python3.6/site-packages',\n",
       " '/usr/local/lib64/python3.6/site-packages',\n",
       " '/usr/local/lib/python3.6/site-packages',\n",
       " '/usr/lib64/python3.6/site-packages',\n",
       " '/usr/lib/python3.6/site-packages',\n",
       " '/usr/local/lib/python3.6/site-packages/IPython/extensions',\n",
       " '/home/bekora/.ipython',\n",
       " '..']"
      ]
     },
     "execution_count": 5,
     "metadata": {},
     "output_type": "execute_result"
    }
   ],
   "source": []
  },
  {
   "cell_type": "code",
   "execution_count": 5,
   "metadata": {},
   "outputs": [],
   "source": [
    "et_data = predictions_to_notes(sample)"
   ]
  },
  {
   "cell_type": "code",
   "execution_count": 1,
   "metadata": {
    "scrolled": false
   },
   "outputs": [
    {
     "name": "stderr",
     "output_type": "stream",
     "text": [
      "/usr/local/lib64/python3.6/site-packages/h5py/__init__.py:36: FutureWarning: Conversion of the second argument of issubdtype from `float` to `np.floating` is deprecated. In future, it will be treated as `np.float64 == np.dtype(float).type`.\n",
      "  from ._conv import register_converters as _register_converters\n"
     ]
    }
   ],
   "source": [
    "import sys\n",
    "sys.path.append('..')\n",
    "from lib.lstm_model import Main"
   ]
  },
  {
   "cell_type": "code",
   "execution_count": null,
   "metadata": {},
   "outputs": [
    {
     "name": "stdout",
     "output_type": "stream",
     "text": [
      "loading data\n",
      "data loaded in shape (5234, 10, 57)\n",
      "WARNING:tensorflow:From /home/bekora/.local/lib/python3.6/site-packages/tensorflow/contrib/learn/python/learn/datasets/base.py:198: retry (from tensorflow.contrib.learn.python.learn.datasets.base) is deprecated and will be removed in a future version.\n",
      "Instructions for updating:\n",
      "Use the retry module or similar alternatives.\n",
      "initializing\n",
      "initialized\n",
      "Epoch       0.00, step     0, loss 0.7002, current best loss 99.0000, seconds per step 0.00\n",
      "Epoch       0.48, step    50, loss 0.1117, current best loss  0.0963, seconds per step 0.12\n",
      "Epoch       0.96, step   100, loss 0.1165, current best loss  0.0947, seconds per step 0.12\n",
      "Epoch       1.00, step     0, loss 0.1077, current best loss  0.0947, seconds per step 0.00\n",
      "Epoch       1.48, step    50, loss 0.0975, current best loss  0.0910, seconds per step 0.12\n",
      "Epoch       1.96, step   100, loss 0.1110, current best loss  0.0824, seconds per step 0.12\n",
      "Epoch       2.00, step     0, loss 0.1617, current best loss  0.0824, seconds per step 0.00\n",
      "Model saved.\n",
      "Model saved.\n",
      "Model saved.\n",
      "Model saved.\n",
      "Model saved.\n",
      "Model saved.\n",
      "Epoch       2.48, step    50, loss 0.1269, current best loss  0.0715, seconds per step 0.16\n",
      "Model saved.\n",
      "Model saved.\n",
      "Model saved.\n",
      "Epoch       2.96, step   100, loss 0.1265, current best loss  0.0625, seconds per step 0.14\n",
      "Epoch       3.00, step     0, loss 0.0705, current best loss  0.0625, seconds per step 0.00\n",
      "Model saved.\n",
      "Model saved.\n",
      "Model saved.\n",
      "Model saved.\n",
      "Epoch       3.48, step    50, loss 0.0765, current best loss  0.0493, seconds per step 0.14\n",
      "Model saved.\n",
      "Model saved.\n",
      "Model saved.\n",
      "Epoch       3.96, step   100, loss 0.0611, current best loss  0.0396, seconds per step 0.14\n",
      "Epoch       4.00, step     0, loss 0.0963, current best loss  0.0396, seconds per step 0.00\n",
      "Model saved.\n",
      "Model saved.\n",
      "Epoch       4.48, step    50, loss 0.0308, current best loss  0.0330, seconds per step 0.14\n",
      "Model saved.\n"
     ]
    }
   ],
   "source": [
    "Main()"
   ]
  },
  {
   "cell_type": "code",
   "execution_count": 3,
   "metadata": {},
   "outputs": [],
   "source": [
    "sample = raw_data[:10].reshape([10,3*19])"
   ]
  },
  {
   "cell_type": "code",
   "execution_count": null,
   "metadata": {},
   "outputs": [],
   "source": []
  },
  {
   "cell_type": "code",
   "execution_count": 6,
   "metadata": {},
   "outputs": [],
   "source": [
    "\n",
    "note_names = ['A', 'B', 'B-', 'C', 'C#', 'D', 'E', 'E-', 'F', 'F#', 'G', 'G#']\n",
    "octaves = ['1', '2', '3', '4', '5', '6']\n",
    "notes = []\n",
    "for element in raw_data.reshape([-1,3*19]):\n",
    "    el = ''\n",
    "    for sub in [ element[0:19], element[19:38], element[38:]]:\n",
    "        if sub.argmax() == 0 :\n",
    "            # note is empty\n",
    "            continue\n",
    "        # else\n",
    "        name = sub[1:13].argmax() \n",
    "        name = note_names[name]\n",
    "        octav = octaves[ sub[13:].argmax() ]\n",
    "        el = el + name + str(octav) + '.'\n",
    "    notes.append(el)\n",
    "\n",
    "\n",
    "\n",
    "\n",
    "\n",
    "\n",
    "\n"
   ]
  },
  {
   "cell_type": "code",
   "execution_count": 5,
   "metadata": {},
   "outputs": [
    {
     "data": {
      "text/plain": [
       "['F3.A2.', 'C6.', 'B5.', 'C6.', 'F6.', 'C6.', 'B-5.', 'A5.', 'G#5.', 'A5.']"
      ]
     },
     "execution_count": 5,
     "metadata": {},
     "output_type": "execute_result"
    }
   ],
   "source": [
    "notes"
   ]
  },
  {
   "cell_type": "code",
   "execution_count": 37,
   "metadata": {},
   "outputs": [
    {
     "data": {
      "text/plain": [
       "'5'"
      ]
     },
     "execution_count": 37,
     "metadata": {},
     "output_type": "execute_result"
    }
   ],
   "source": [
    "notes[-2].split('.')[:-1][0][-1]"
   ]
  },
  {
   "cell_type": "code",
   "execution_count": 7,
   "metadata": {},
   "outputs": [
    {
     "name": "stdout",
     "output_type": "stream",
     "text": [
      "midi is generated and saved to disk\n"
     ]
    }
   ],
   "source": [
    "create_midi(notes, 'test.mid')"
   ]
  }
 ],
 "metadata": {
  "kernelspec": {
   "display_name": "Python 3",
   "language": "python",
   "name": "python3"
  },
  "language_info": {
   "codemirror_mode": {
    "name": "ipython",
    "version": 3
   },
   "file_extension": ".py",
   "mimetype": "text/x-python",
   "name": "python",
   "nbconvert_exporter": "python",
   "pygments_lexer": "ipython3",
   "version": "3.6.4"
  }
 },
 "nbformat": 4,
 "nbformat_minor": 2
}
