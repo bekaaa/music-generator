{
 "cells": [
  {
   "cell_type": "code",
   "execution_count": null,
   "metadata": {},
   "outputs": [],
   "source": [
    "import numpy as np\n",
    "from sklearn.preprocessing import LabelEncoder\n",
    "from keras.models import load_model\n",
    "import _pickle as pickle\n",
    "from music21 import instrument, note, stream, chord"
   ]
  },
  {
   "cell_type": "code",
   "execution_count": null,
   "metadata": {},
   "outputs": [],
   "source": [
    "# set to true for debugging\n",
    "debug = True"
   ]
  },
  {
   "cell_type": "code",
   "execution_count": null,
   "metadata": {},
   "outputs": [],
   "source": [
    "def produce_music():\n",
    "    \n",
    "    notes, n_vocab = get_notes('./data/classicalPianoNotes.pkl')\n",
    "    NetworkInput, mapper = prepare_data(notes, n_vocab)\n",
    "    model = get_model('./checkpoints/1/ckpt-3.4684-00')\n",
    "    predictions = predict_notes(model, NetworkInput, mapper, n_vocab)\n",
    "    create_midi(predictions, 'music.mid')\n",
    "#-------------------------------------------------------\n",
    "# uncomment after running all the lower cells.\n",
    "produce_music()"
   ]
  },
  {
   "cell_type": "code",
   "execution_count": null,
   "metadata": {},
   "outputs": [],
   "source": [
    "def get_notes(notes_file):\n",
    "    with open(notes_file,'rb') as f :\n",
    "        notes = pickle.load(f)\n",
    "    print('Notes are loaded properly using the saved pickle')\n",
    "    return notes, len(set(notes))\n",
    "#--------------------------------------------------------\n",
    "if debug : notes, n_vocab = get_notes('./data/third_piece_MozartNotes.pkl')"
   ]
  },
  {
   "cell_type": "code",
   "execution_count": null,
   "metadata": {},
   "outputs": [],
   "source": [
    "def prepare_data(notes, n_vocab):\n",
    "    sequence_length = 100\n",
    "    NetworkInput = []\n",
    "    mapper = LabelEncoder()\n",
    "    mapped_notes = mapper.fit_transform(notes)\n",
    "    \n",
    "    for i in range(len(notes) - sequence_length):\n",
    "        in_seq = mapped_notes[i:i+sequence_length]\n",
    "        NetworkInput.append(in_seq)\n",
    "    NetworkInput = mapped_notes\n",
    "    \n",
    "    n_patterns = len(NetworkInput)\n",
    "    \n",
    "    NetworkInput = np.reshape(NetworkInput, (n_patterns, sequence_length, 1))\n",
    "    NetworkInput = NetworkInput / float(n_vocab)\n",
    "    \n",
    "    print('Input shape = ',NetworkInput.shape)\n",
    "    return NetworkInput, mapper\n",
    "#--------------------------------------------------\n",
    "if debug : NetworkInput, mapper = prepare_data(notes, n_vocab2)"
   ]
  },
  {
   "cell_type": "code",
   "execution_count": null,
   "metadata": {},
   "outputs": [],
   "source": [
    "def get_model(saved_path):\n",
    "    model = load_model(saved_path)\n",
    "    return model\n",
    "#--------------------\n",
    "if debug : model = get_model('./checkpoints/2/ckpt-0.2240-115.hdf5')"
   ]
  },
  {
   "cell_type": "code",
   "execution_count": null,
   "metadata": {
    "scrolled": true
   },
   "outputs": [],
   "source": [
    "def predict_notes(model, NetworkInput, mapper, n_vocab, length=500):\n",
    "    start = np.random.randint(0, NetworkInput.shape[0]-1)\n",
    "    #start = 0\n",
    "    pattern = NetworkInput.reshape(1,-1,1)\n",
    "    predictions = []\n",
    "    \n",
    "    for i in range(length):\n",
    "        if i % 100 == 0 : print('.',end='')\n",
    "        p = model.predict(pattern).argmax()\n",
    "        predictions.append(mapper.classes_[p])\n",
    "        \n",
    "        pattern = np.concatenate(( pattern[0,1:,0], np.asarray([p/float(n_vocab)]) )).reshape(1,-1,1)\n",
    "    \n",
    "    print('\\nnotes are generated.')\n",
    "    return predictions\n",
    "#---------------------------------------------------\n",
    "if debug : predictions = predict_notes(model, NetworkInput, mapper, n_vocab2)"
   ]
  },
  {
   "cell_type": "code",
   "execution_count": null,
   "metadata": {},
   "outputs": [],
   "source": [
    "def create_midi(predictions, filename):\n",
    "    offset = 0\n",
    "    output_notes = []\n",
    "    \n",
    "    for pattern in predictions:\n",
    "        # pattern is a chord\n",
    "        if '.' in pattern : \n",
    "            notes_in_chord = pattern.split('.')\n",
    "            notes = []\n",
    "            for current_note in notes_in_chord:\n",
    "                new_note = note.Note(current_note)\n",
    "                new_note.storedInstrument = instrument.Piano()\n",
    "                notes.append(new_note)\n",
    "            new_chord = chord.Chord(notes)\n",
    "            new_chord.offset = offset\n",
    "            output_notes.append(new_chord)\n",
    "        # pattern is a single note\n",
    "        else :\n",
    "            new_note = note.Note(pattern)\n",
    "            new_note.storedInstrument = instrument.Piano()\n",
    "            new_note.offset = offset\n",
    "            output_notes.append(new_note)\n",
    "        #increase offset each step\n",
    "        offset += .5\n",
    "    \n",
    "    midi_stream = stream.Stream(output_notes)\n",
    "    midi_stream.write('midi', fp='./music/generated/'+filename)\n",
    "    print('midi is generated and saved to disk')\n",
    "#---------------------------------------------------------------------\n",
    "if debug : create_midi(predictions, 'thirdpredicted2.mid')"
   ]
  },
  {
   "cell_type": "code",
   "execution_count": null,
   "metadata": {},
   "outputs": [],
   "source": []
  },
  {
   "cell_type": "code",
   "execution_count": null,
   "metadata": {},
   "outputs": [],
   "source": []
  },
  {
   "cell_type": "code",
   "execution_count": null,
   "metadata": {},
   "outputs": [],
   "source": []
  },
  {
   "cell_type": "code",
   "execution_count": null,
   "metadata": {
    "scrolled": false
   },
   "outputs": [],
   "source": []
  },
  {
   "cell_type": "code",
   "execution_count": null,
   "metadata": {},
   "outputs": [],
   "source": []
  }
 ],
 "metadata": {
  "kernelspec": {
   "display_name": "Python 3",
   "language": "python",
   "name": "python3"
  },
  "language_info": {
   "codemirror_mode": {
    "name": "ipython",
    "version": 3
   },
   "file_extension": ".py",
   "mimetype": "text/x-python",
   "name": "python",
   "nbconvert_exporter": "python",
   "pygments_lexer": "ipython3",
   "version": "3.6.4"
  }
 },
 "nbformat": 4,
 "nbformat_minor": 2
}
